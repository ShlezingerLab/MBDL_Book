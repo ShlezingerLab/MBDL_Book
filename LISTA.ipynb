{
 "cells": [
  {
   "cell_type": "markdown",
   "metadata": {
    "id": "du1uUaIBQW0G"
   },
   "source": [
    "# Deep Unfolding\n",
    "In this notebook we will compare the iterative soft thresholding algorithm (ISTA) to its deep unfolded version, coined learned ISTA (LISTA). LISTA is in fact the origin of deep unfolding methodology, proposed by Gregor and LeCun back in 2010, and has spurred a multitude of variants over the years. This notebook compares a basic implementation of it to the model-based ISTA, examining the ability of deep unfolding to increase the convergence rate of iterative optimizers. \n"
   ]
  },
  {
   "cell_type": "code",
   "execution_count": 1,
   "metadata": {
    "id": "fRrvq-dbQW0M"
   },
   "outputs": [],
   "source": [
    "import torch\n",
    "import torch.utils.data as Data\n",
    "import torch.nn.functional as F\n",
    "import torch.nn as nn\n",
    "from scipy.linalg import eigvalsh \n",
    "import numpy as np\n",
    "\n",
    "import matplotlib.pyplot as plt\n",
    "\n",
    "SEED = 0\n",
    "torch.manual_seed(SEED)\n",
    "np.random.seed(SEED)\n",
    "\n",
    "torch.set_default_dtype(torch.float64)"
   ]
  },
  {
   "cell_type": "markdown",
   "metadata": {
    "id": "zezgTUqaQW0O"
   },
   "source": [
    "## ISTA\n",
    "We begin by recalling the formulation of ISTA. The original algorihtm aims at solving the LASSO problem\n",
    "\\begin{equation} \n",
    "\t    \\hat{\\boldsymbol{s}} = \\mathop{\\arg\\min}\\limits_{\\boldsymbol{s}} \\frac{1}{2}\\|\\boldsymbol{x}-\\boldsymbol{H}\\boldsymbol{s}\\|^2 +\\rho\\|\\boldsymbol{s}\\|_1,\n",
    "\\end{equation}\n",
    "via the iterative update equations\n",
    "\\begin{equation}\n",
    "         \\boldsymbol{s}^{(k+1)} \\leftarrow  \\mathcal{T}_{\\beta=\\mu\\rho}\\left( \\boldsymbol{s}^{(k)} - \\mu \\boldsymbol{H}^T(\\boldsymbol{H}\\boldsymbol{s}^{(k)}-\\boldsymbol{x}) \\right),    \n",
    "\\end{equation}\n",
    "with $\\mathcal{T}$ being the soft-thresholding operation.\n",
    "\n",
    "Since one can probe convergence of ISTA when the step-size $\\mu$ satisfies $\\mu \\leq \\frac{1}{\\max {\\rm eig}(\\boldsymbol{H}^T\\boldsymbol{H})}$, we will use this value as our default setting of $\\mu = 1/L$ with $L=\\max {\\rm eig}(\\boldsymbol{H}^T\\boldsymbol{H})$."
   ]
  },
  {
   "cell_type": "code",
   "execution_count": 2,
   "metadata": {
    "id": "qgZiurHZQW0P"
   },
   "outputs": [],
   "source": [
    "def ista(x, H, b_s, rho=0.5, L=1, max_itr=300):\n",
    "    loss_vs_iter = np.zeros(max_itr)\n",
    "    s_hat = torch.zeros(H.shape[1])\n",
    "    proj = torch.nn.Softshrink(lambd=rho / L)\n",
    "    for idx in range(max_itr):\n",
    "        s_tild = s_hat - 1 / L * (H.T @ (H @ s_hat - x))\n",
    "        s_hat = proj(s_tild)\n",
    "        # Aggregate each iteration's MSE loss\n",
    "        loss_vs_iter[idx] = F.mse_loss(s_hat, b_s, reduction=\"sum\").data.item()\n",
    "\n",
    "    return loss_vs_iter"
   ]
  },
  {
   "cell_type": "markdown",
   "metadata": {
    "id": "K_R5evWuQW0P"
   },
   "source": [
    "## Data\n",
    "Next, we generate a data set $\\mathcal{D}=\\{(\\boldsymbol{s}_t, \\boldsymbol{x}_t)\\}_{t=1}^{n_t}$, where each $\\boldsymbol{s}_t$ has $m=200$ entries, out of which at most $k=4$ are non-zero, while $\\boldsymbol{x}_t$ has $n=150$ entires and is obtained via \n",
    "\\begin{equation}\n",
    "\\boldsymbol{x}_t = \\boldsymbol{H}\\boldsymbol{s}_t + \\boldsymbol{w}_t,\n",
    "\\end{equation}\n",
    "with $\\boldsymbol{w}_t$ being i.i.d. Gaussian noise.\n",
    "\n",
    "To that aim, we generate a dedicated class inheriting Dataset to get the data samples, and to allow each tuple to be comprised of both $(\\boldsymbol{s}_t, \\boldsymbol{x}_t)$ as well as $\\boldsymbol{H}$."
   ]
  },
  {
   "cell_type": "code",
   "execution_count": 3,
   "metadata": {
    "id": "zFR3h7-cQW0Q"
   },
   "outputs": [],
   "source": [
    "class SimulatedData(Data.Dataset):\n",
    "    def __init__(self, x, H, s):\n",
    "        self.x = x\n",
    "        self.s = s\n",
    "        self.H = H\n",
    "\n",
    "    def __len__(self):\n",
    "        return self.x.shape[0]\n",
    "\n",
    "    def __getitem__(self, idx):\n",
    "        x = self.x[idx, :]\n",
    "        H = self.H\n",
    "        s = self.s[idx, :]\n",
    "        return x, H, s"
   ]
  },
  {
   "cell_type": "markdown",
   "metadata": {
    "id": "iGWkBlYzQW0R"
   },
   "source": [
    "The next function creates a dataset."
   ]
  },
  {
   "cell_type": "code",
   "execution_count": 4,
   "metadata": {
    "id": "iw6tzy_WQW0S"
   },
   "outputs": [],
   "source": [
    "\n",
    "def create_data_set(H, n, m, k, N=1000, batch_size=512, noise_dev=0.5):\n",
    "    # Initialization\n",
    "    x = torch.zeros(N, n)\n",
    "    s = torch.zeros(N, m)\n",
    "\n",
    "    # Create signals\n",
    "    for i in range(N):\n",
    "        # Create a k-sparsed signal s\n",
    "        index_k = np.random.choice(m, k, replace=False)\n",
    "        peaks = noise_dev * np.random.randn(k)\n",
    "\n",
    "        s[i, index_k] = torch.from_numpy(peaks).to(s)\n",
    "\n",
    "        # X = Hs+w\n",
    "        #TODO NIR - does the noise_dev should be the same as this 0.01?\n",
    "        x[i, :] = H @ s[i, :] + 0.01 * torch.randn(n) \n",
    "\n",
    "    simulated = SimulatedData(x=x, H=H, s=s)\n",
    "    data_loader = Data.DataLoader(dataset=simulated, batch_size=batch_size, shuffle=True)\n",
    "    return data_loader"
   ]
  },
  {
   "cell_type": "markdown",
   "metadata": {
    "id": "f_-zo3wLQW0T"
   },
   "source": [
    "Finally, we generate the data set"
   ]
  },
  {
   "cell_type": "code",
   "execution_count": 5,
   "metadata": {
    "id": "k35ChHSXQW0T"
   },
   "outputs": [],
   "source": [
    "N = 1000 # number of samples\n",
    "n = 150 # dim(x)\n",
    "m = 200 # dim(s)\n",
    "k = 4 # k-sparse signal\n",
    "\n",
    "# Measurement matrix\n",
    "H = torch.randn(n, m)\n",
    "H /= torch.norm(H, dim=0)\n",
    "\n",
    "# Generate datasets\n",
    "train_loader = create_data_set(H, n=n, m=m, k=k, N=N)\n",
    "test_loader = create_data_set(H, n=n, m=m, k=k, N=N, batch_size=N)"
   ]
  },
  {
   "cell_type": "markdown",
   "metadata": {
    "id": "ao717ZpaQW0U"
   },
   "source": [
    "Let's see what the samples look like"
   ]
  },
  {
   "cell_type": "code",
   "execution_count": 6,
   "metadata": {
    "id": "GdIkUnvXQW0U",
    "colab": {
     "base_uri": "https://localhost:8080/",
     "height": 696
    },
    "outputId": "12b9da56-030f-4538-d49c-598ac710c0f0"
   },
   "outputs": [
    {
     "data": {
      "text/plain": "<Figure size 576x576 with 2 Axes>",
      "image/png": "[encoded data removed]"
     },
     "metadata": {
      "needs_background": "light"
     },
     "output_type": "display_data"
    }
   ],
   "source": [
    "x_exm, _, s_exm =test_loader.dataset.__getitem__(5)\n",
    "plt.figure(figsize=(8, 8)) \n",
    "plt.subplot(2, 1, 1) \n",
    "plt.plot(x_exm, label = 'observation' ) \n",
    "plt.xlabel('Index', fontsize=10)\n",
    "plt.ylabel('Value', fontsize=10)\n",
    "plt.legend( )\n",
    "plt.subplot (2, 1, 2) \n",
    "plt.plot(s_exm, label = 'sparse signal', color='k')  \n",
    "plt.xlabel('Index', fontsize=10)\n",
    "plt.ylabel('Value', fontsize=10)\n",
    "plt.legend( )\n",
    "plt.show()"
   ]
  },
  {
   "cell_type": "markdown",
   "metadata": {
    "id": "Pr3P8sI0QW0V"
   },
   "source": [
    "## Train and Validation\n",
    "\n",
    "For training, we use SGDM with learning rate scheduler and the $\\ell_2$ loss"
   ]
  },
  {
   "cell_type": "code",
   "execution_count": 7,
   "metadata": {
    "id": "gkcHGQAHQW0V"
   },
   "outputs": [],
   "source": [
    "def train(model, train_loader, valid_loader, num_epochs=50):\n",
    "    \"\"\"Train a network.\n",
    "    Returns:\n",
    "        loss_test {numpy} -- loss function values on test set\n",
    "    \"\"\"\n",
    "    # Initialization\n",
    "    optimizer = torch.optim.SGD(\n",
    "        model.parameters(),\n",
    "        lr=5e-05,\n",
    "        momentum=0.9,\n",
    "        weight_decay=0,\n",
    "    )\n",
    "    scheduler = torch.optim.lr_scheduler.StepLR(\n",
    "        optimizer, step_size=50, gamma=0.1\n",
    "    )\n",
    "    loss_train = np.zeros((num_epochs,))\n",
    "    loss_test = np.zeros((num_epochs,))\n",
    "    # Main loop\n",
    "    for epoch in range(num_epochs):\n",
    "        model.train()\n",
    "        train_loss = 0\n",
    "        for step, (b_x, b_H, b_s) in enumerate(train_loader):\n",
    "            s_hat, _ = model.forward(b_x)\n",
    "            loss = F.mse_loss(s_hat, b_s, reduction=\"sum\")\n",
    "            optimizer.zero_grad()\n",
    "            loss.backward()\n",
    "            optimizer.step()\n",
    "            model.zero_grad()\n",
    "            train_loss += loss.data.item()\n",
    "        loss_train[epoch] = train_loss / len(train_loader.dataset)\n",
    "        scheduler.step()\n",
    "\n",
    "        # validation\n",
    "        model.eval()\n",
    "        test_loss = 0\n",
    "        for step, (b_x, b_H, b_s) in enumerate(valid_loader):\n",
    "            # b_x, b_H, b_x = b_x.cuda(), b_H.cuda(), b_s.cuda()\n",
    "            s_hat, _ = model.forward(b_x)\n",
    "            test_loss += F.mse_loss(s_hat, b_s, reduction=\"sum\").data.item()\n",
    "        loss_test[epoch] = test_loss / len(valid_loader.dataset)\n",
    "        # Print\n",
    "        if epoch % 10 == 0:\n",
    "            print(\n",
    "                \"Epoch %d, Train loss %.8f, Validation loss %.8f\"\n",
    "                % (epoch, loss_train[epoch], loss_test[epoch])\n",
    "            )\n",
    "\n",
    "    return loss_test"
   ]
  },
  {
   "cell_type": "markdown",
   "metadata": {
    "id": "zvqGy-U5QW0W"
   },
   "source": [
    "## Learned ISTA (LISTA)\n",
    "As noted earlier, there are many variants of unfolded ISTA. Here we should use the following update equation:\n",
    "\\begin{equation}\n",
    "         \\boldsymbol{s}^{(k+1)} \\leftarrow  \\mathcal{T}_{\\beta^{(k)}}\\left( \\boldsymbol{s}^{(k)} - \\mu^{(k)} (\\boldsymbol{B}\\boldsymbol{s}^{(k)}+\\boldsymbol{A}\\boldsymbol{x}) \\right),    \n",
    "\\end{equation}\n",
    "with $\\boldsymbol{A}, \\boldsymbol{B}$ and $\\{\\beta^{(k)},\\mu^{(k)}\\}$ beging trainable parameters."
   ]
  },
  {
   "cell_type": "code",
   "execution_count": 8,
   "metadata": {
    "id": "wlda7zf6QW0W"
   },
   "outputs": [],
   "source": [
    "class LISTA_Model(nn.Module):\n",
    "    def __init__(self, n, m, T=6, rho=1.0, H=None):\n",
    "        super(LISTA_Model, self).__init__()\n",
    "        self.n, self.m = n, m\n",
    "        self.H = H\n",
    "        self.T = T  # ISTA Iterations\n",
    "        self.rho = rho  # Lagrangian Multiplier\n",
    "        self.A = nn.Linear(n, m, bias=False)  # Weight Matrix\n",
    "        self.B = nn.Linear(m, m, bias=False)  # Weight Matrix\n",
    "        # ISTA Stepsizes eta\n",
    "        self.beta = nn.Parameter(torch.ones(T + 1, 1, 1), requires_grad=True)\n",
    "        self.mu = nn.Parameter(torch.ones(T + 1, 1, 1), requires_grad=True)\n",
    "        # Initialization\n",
    "        if H is not None:\n",
    "            self.A.weight.data = H.t()\n",
    "            self.B.weight.data = H.t() @ H\n",
    "\n",
    "    def _shrink(self, s, beta):\n",
    "        return beta * F.softshrink(s / beta, lambd=self.rho)\n",
    "\n",
    "    def forward(self, x, s_gt=None):\n",
    "        mse_vs_itr = []\n",
    "\n",
    "        s_hat = self._shrink(self.mu[0, :, :] * self.A(x), self.beta[0, :, :])\n",
    "        for i in range(1, self.T + 1):\n",
    "            s_hat = self._shrink(s_hat - self.mu[i, :, :] * self.B(s_hat) + self.mu[i, :, :] * self.A(x),\n",
    "                                 self.beta[i, :, :], )\n",
    "            \n",
    "            # Aggregate each iteration's MSE loss\n",
    "            if s_gt is not None:\n",
    "                mse_vs_itr.append(F.mse_loss(s_hat.detach(), s_gt.detach(), reduction=\"sum\").data.item())\n",
    "\n",
    "        return s_hat, mse_vs_itr"
   ]
  },
  {
   "cell_type": "markdown",
   "metadata": {
    "id": "ahtj1Pi9QW0X"
   },
   "source": [
    "The following functions apply LISTA and ISTA for given data sets"
   ]
  },
  {
   "cell_type": "code",
   "execution_count": 9,
   "metadata": {
    "id": "qgtN_e6AQW0X"
   },
   "outputs": [],
   "source": [
    "def lista_apply(train_loader, test_loader, T, H):\n",
    "    n = H.shape[1]\n",
    "    m = H.shape[1]\n",
    "    lista = LISTA_Model(n=n, m=m, T=T, H=H)\n",
    "    train(lista, train_loader, test_loader)\n",
    "    \n",
    "    # Extract all samples and calculate MSE for each iteration\n",
    "    s_gt, x = test_loader.dataset.s, test_loader.dataset.x\n",
    "    _, mse_vs_iter = lista(x, s_gt=s_gt)\n",
    "\n",
    "    return np.array(mse_vs_iter)/len(test_loader.dataset)"
   ]
  },
  {
   "cell_type": "code",
   "execution_count": 10,
   "metadata": {
    "id": "fJihBfJHQW0X"
   },
   "outputs": [],
   "source": [
    "def ista_apply(test_loader, T, H, rho=0.5):\n",
    "    H = H.cpu()\n",
    "    m = H.shape[1]\n",
    "    L = float(eigvalsh(H.t() @ H, eigvals=(m - 1, m - 1)))\n",
    "\n",
    "    # Aggregate T iterations' MSE loss\n",
    "    losses = np.zeros((len(test_loader.dataset), T))\n",
    "    for idx, (x, _, b_s) in enumerate(test_loader.dataset):\n",
    "        losses[idx, :] = ista(x=x, H=H, b_s=b_s, rho=rho, L=L, max_itr=T)\n",
    "\n",
    "    return losses.mean(axis=0)"
   ]
  },
  {
   "cell_type": "markdown",
   "metadata": {
    "id": "DyXjBT67QW0Y"
   },
   "source": [
    "## Comparing LISTA to ISTA\n",
    "Finally, we show that by learning the parameterization of ISTA in a per-iteration manner, one can notably improve its convergence rate. To that aim, in the following loop we compare ISTA to trained LISTA with different number of iterations.\n"
   ]
  },
  {
   "cell_type": "code",
   "execution_count": 11,
   "metadata": {
    "colab": {
     "base_uri": "https://localhost:8080/",
     "height": 541
    },
    "id": "oYhB1ezoQW0Y",
    "outputId": "77bd9f28-b1f2-4a57-9996-2ca7b8a3cdee"
   },
   "outputs": [
    {
     "name": "stdout",
     "output_type": "stream",
     "text": [
      "Epoch 0, Train loss 0.90430683, Validation loss 0.86949169\n",
      "Epoch 10, Train loss 0.20487403, Validation loss 0.15305775\n",
      "Epoch 20, Train loss 0.03464069, Validation loss 0.03086743\n",
      "Epoch 30, Train loss 0.01496401, Validation loss 0.01495947\n",
      "Epoch 40, Train loss 0.00707210, Validation loss 0.00855395\n"
     ]
    },
    {
     "data": {
      "text/plain": "<Figure size 432x288 with 1 Axes>",
      "image/png": "[encoded data removed]"
     },
     "metadata": {
      "needs_background": "light"
     },
     "output_type": "display_data"
    }
   ],
   "source": [
    "\n",
    "# number of unfolding\n",
    "T_LISTA = 5\n",
    "T_ISTA = 20*T_LISTA\n",
    "\n",
    "# Train and apply LISTA with T iterations / layers\n",
    "lista_mse_vs_iter = lista_apply(train_loader, test_loader, T_LISTA, H)\n",
    "\n",
    "ista_mse_vs_iter = ista_apply(test_loader, T_ISTA, H)\n",
    "\n",
    "# plot the resutls\n",
    "fig = plt.figure()\n",
    "plt.plot(range(T_ISTA), ista_mse_vs_iter, label='ISTA', color='b', linewidth=0.5)\n",
    "plt.plot(range(T_LISTA), lista_mse_vs_iter, label='LISTA', color='r', linewidth=2)\n",
    "plt.xlabel('Number of iterations', fontsize=10)\n",
    "plt.ylabel('MSE', fontsize=10)\n",
    "plt.yscale(\"log\")\n",
    "plt.legend()\n",
    "plt.show()\n"
   ]
  }
 ],
 "metadata": {
  "colab": {
   "provenance": [],
   "gpuType": "T4"
  },
  "kernelspec": {
   "display_name": "Python 3",
   "name": "python3"
  },
  "language_info": {
   "name": "python"
  },
  "accelerator": "GPU",
  "gpuClass": "standard"
 },
 "nbformat": 4,
 "nbformat_minor": 0
}
